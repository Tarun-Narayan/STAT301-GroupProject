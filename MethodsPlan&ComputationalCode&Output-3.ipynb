{
 "cells": [
  {
   "cell_type": "markdown",
   "id": "656f19b4-9b4a-47ec-85e1-b772daaa8ce1",
   "metadata": {},
   "source": [
    "# Predicting Sleep Disorders Using Health and Lifestyle Metrics\n",
    "\n",
    "**Course:** STAT 301  \n",
    "**Date:** April 1, 2025  \n",
    "**Group Members:** Linda Chu, Mohammed Fouzan Hashmi, Tarun Narayan"
   ]
  },
  {
   "cell_type": "markdown",
   "id": "630b0e09-8cf1-4fd9-82b0-caa89fa85614",
   "metadata": {},
   "source": [
    "## (2) Introduction\n",
    "\n",
    "### Background Information\n",
    "\n",
    "_TODO_\n",
    "\n",
    "### Question of Interest\n",
    "Can we predict whether an individual has a sleep disorder based on the available relevant categories in the dataset?\n",
    "\n",
    "## (3) Methods and Results\n",
    "\n",
    "### a.) Data\n",
    "The Sleep Health and Lifestyle Dataset contains 400 observations and 13 variables, providing insights into sleep patterns, lifestyle factors, and cardiovascular health. \n",
    "The dataset includes numerical and categorical variables. (modified to include all variables in the dataset based on feedback from Assignment 1).\n",
    "Column removed: Person ID.\n",
    "Reason: This is a unique identifier for each individual and does not provide any meaningful information for prediction or analysis.\n",
    "\n",
    "**Source:** The data source is artificial (i.e., the author of the dataset created synthetic data for illustrative purposes).  \n",
    "**Citation:** Dataset retrieved from: https://www.kaggle.com/datasets/uom190346a/sleep-health-and-lifestyle-dataset/data.\n",
    "\n",
    "Table of variable name, type and description:\n",
    "\n",
    "| Variable                  | Type        | Description                                   |\n",
    "|---------------------------|------------|-----------------------------------------------|\n",
    "| **Person ID**             | Categorical | Unique identifier for each individual         |\n",
    "| **Gender**                | Categorical | Male/Female                                  |\n",
    "| **Age**                   | Numerical   | Age in years                                 |\n",
    "| **Occupation**            | Categorical | Type of profession                          |\n",
    "| **Sleep Duration**        | Numerical   | Hours of sleep per day                      |\n",
    "| **Quality of Sleep**      | Numerical   | Self-reported sleep quality (1-10)          |\n",
    "| **Physical Activity Level** | Numerical | Minutes of physical activity per day       |\n",
    "| **Stress Level**          | Numerical   | Self-reported stress level (1-10)           |\n",
    "| **BMI Category**          | Categorical | Underweight, Normal, Overweight             |\n",
    "| **Blood Pressure**        | Numerical   | Systolic/Diastolic measurement              |\n",
    "| **Heart Rate**            | Numerical   | Beats per minute (bpm)                      |\n",
    "| **Daily Steps**           | Numerical   | Number of steps per day                     |\n",
    "| **Sleep Disorder**        | Categorical | None, Insomnia, Sleep Apnea                 |\n"
   ]
  },
  {
   "cell_type": "markdown",
   "id": "a84e5d0a-c136-4bb5-aeed-f58735f96714",
   "metadata": {},
   "source": [
    "### b) Exploratory Data Analysis"
   ]
  },
  {
   "cell_type": "code",
   "execution_count": 50,
   "id": "f1fb03cb-d295-4368-a70a-18a301053dfd",
   "metadata": {},
   "outputs": [],
   "source": [
    "library(tidyverse)\n",
    "library(caret)\n",
    "library(pROC)\n",
    "library(boot)\n",
    "library(dplyr)"
   ]
  },
  {
   "cell_type": "code",
   "execution_count": 60,
   "id": "4cb5bf8a-2eb4-4bf2-ac7c-56cb75dba9f7",
   "metadata": {},
   "outputs": [],
   "source": [
    "# Load the dataset\n",
    "sleep_data <- read_csv(\"https://raw.githubusercontent.com/Tarun-Narayan/STAT301-GroupProject/refs/heads/main/sleep_health.csv\", show_col_types = FALSE)\n",
    "\n",
    "# Clean and wrangle data into a tidy format\n",
    "sleep_data <- sleep_data %>%\n",
    "  drop_na() %>%\n",
    "  distinct()\n",
    "\n",
    "# Renaming column names to remove space\n",
    "sleep_data <- sleep_data %>%\n",
    "  rename(ID = `Person ID`,\n",
    "         Sleep_Duration = `Sleep Duration`, \n",
    "         Sleep_Quality = `Quality of Sleep`,\n",
    "         Phys_Level = `Physical Activity Level`,\n",
    "         Stress_Level = `Stress Level`, \n",
    "         Sleep_Disorder = `Sleep Disorder`,\n",
    "         BMI_Category = `BMI Category`,\n",
    "         Blood_Pressure = `Blood Pressure`,\n",
    "         Heart_Rate = `Heart Rate`,\n",
    "         Daily_Steps = `Daily Steps`)\n",
    "\n",
    "#Combining 'Normal Weight' and 'Normal'\n",
    "sleep_data <- sleep_data %>%\n",
    "  mutate(BMI_Category = ifelse(BMI_Category == \"Normal Weight\", \"Normal\", BMI_Category)) #%>%\n",
    "  #mutate(Occupation = ifelse(Occupation == \"Sales Representative\", \"Salesperson\", Occupation))"
   ]
  },
  {
   "cell_type": "code",
   "execution_count": 61,
   "id": "9a5397d8-76c3-423a-95fe-39ad0a2da377",
   "metadata": {},
   "outputs": [
    {
     "name": "stdout",
     "output_type": "stream",
     "text": [
      "Rows: 374\n",
      "Columns: 14\n",
      "$ ID             \u001b[3m\u001b[90m<dbl>\u001b[39m\u001b[23m 1, 2, 3, 4, 5, 6, 7, 8, 9, 10, 11, 12, 13, 14, 15, 16, …\n",
      "$ Gender         \u001b[3m\u001b[90m<chr>\u001b[39m\u001b[23m \"Male\", \"Male\", \"Male\", \"Male\", \"Male\", \"Male\", \"Male\",…\n",
      "$ Age            \u001b[3m\u001b[90m<dbl>\u001b[39m\u001b[23m 27, 28, 28, 28, 28, 28, 29, 29, 29, 29, 29, 29, 29, 29,…\n",
      "$ Occupation     \u001b[3m\u001b[90m<chr>\u001b[39m\u001b[23m \"Software Engineer\", \"Doctor\", \"Doctor\", \"Sales Represe…\n",
      "$ Sleep_Duration \u001b[3m\u001b[90m<dbl>\u001b[39m\u001b[23m 6.1, 6.2, 6.2, 5.9, 5.9, 5.9, 6.3, 7.8, 7.8, 7.8, 6.1, …\n",
      "$ Sleep_Quality  \u001b[3m\u001b[90m<dbl>\u001b[39m\u001b[23m 6, 6, 6, 4, 4, 4, 6, 7, 7, 7, 6, 7, 6, 6, 6, 6, 5, 6, 5…\n",
      "$ Phys_Level     \u001b[3m\u001b[90m<dbl>\u001b[39m\u001b[23m 42, 60, 60, 30, 30, 30, 40, 75, 75, 75, 30, 75, 30, 30,…\n",
      "$ Stress_Level   \u001b[3m\u001b[90m<dbl>\u001b[39m\u001b[23m 6, 8, 8, 8, 8, 8, 7, 6, 6, 6, 8, 6, 8, 8, 8, 8, 7, 8, 7…\n",
      "$ BMI_Category   \u001b[3m\u001b[90m<fct>\u001b[39m\u001b[23m Overweight, Normal, Normal, Obese, Obese, Obese, Obese,…\n",
      "$ Systolic_BP    \u001b[3m\u001b[90m<int>\u001b[39m\u001b[23m 126, 125, 125, 140, 140, 140, 140, 120, 120, 120, 120, …\n",
      "$ Diastolic_BP   \u001b[3m\u001b[90m<int>\u001b[39m\u001b[23m 83, 80, 80, 90, 90, 90, 90, 80, 80, 80, 80, 80, 80, 80,…\n",
      "$ Heart_Rate     \u001b[3m\u001b[90m<dbl>\u001b[39m\u001b[23m 77, 75, 75, 85, 85, 85, 82, 70, 70, 70, 70, 70, 70, 70,…\n",
      "$ Daily_Steps    \u001b[3m\u001b[90m<dbl>\u001b[39m\u001b[23m 4200, 10000, 10000, 3000, 3000, 3000, 3500, 8000, 8000,…\n",
      "$ Sleep_Disorder \u001b[3m\u001b[90m<fct>\u001b[39m\u001b[23m 0, 0, 0, 1, 1, 1, 1, 0, 0, 0, 0, 0, 0, 0, 0, 0, 1, 1, 1…\n"
     ]
    }
   ],
   "source": [
    "# Splitting Blood pressure into Systolic BP and Diastolic BP\n",
    "sleep_data <- sleep_data %>%\n",
    "  separate(Blood_Pressure, into = c(\"Systolic_BP\", \"Diastolic_BP\"), sep = \"/\", convert = TRUE) \n",
    "\n",
    "# Modify Sleep_Disorder and BMI_Cateogry to factor\n",
    "sleep_data <- sleep_data %>% \n",
    "  mutate(Sleep_Disorder = ifelse(Sleep_Disorder == \"None\", 0, 1), \n",
    "         Sleep_Disorder = as.factor(Sleep_Disorder),\n",
    "         BMI_Category = as.factor(BMI_Category))\n",
    "\n",
    "glimpse(sleep_data)"
   ]
  },
  {
   "cell_type": "code",
   "execution_count": 63,
   "id": "45d4ce9b-80c9-4716-b61a-14be4b3af697",
   "metadata": {},
   "outputs": [
    {
     "data": {
      "text/html": [
       "<table class=\"dataframe\">\n",
       "<caption>A tibble: 11 × 2</caption>\n",
       "<thead>\n",
       "\t<tr><th scope=col>Occupation</th><th scope=col>n</th></tr>\n",
       "\t<tr><th scope=col>&lt;chr&gt;</th><th scope=col>&lt;int&gt;</th></tr>\n",
       "</thead>\n",
       "<tbody>\n",
       "\t<tr><td>Accountant          </td><td>37</td></tr>\n",
       "\t<tr><td>Doctor              </td><td>71</td></tr>\n",
       "\t<tr><td>Engineer            </td><td>63</td></tr>\n",
       "\t<tr><td>Lawyer              </td><td>47</td></tr>\n",
       "\t<tr><td>Manager             </td><td> 1</td></tr>\n",
       "\t<tr><td>Nurse               </td><td>73</td></tr>\n",
       "\t<tr><td>Sales Representative</td><td> 2</td></tr>\n",
       "\t<tr><td>Salesperson         </td><td>32</td></tr>\n",
       "\t<tr><td>Scientist           </td><td> 4</td></tr>\n",
       "\t<tr><td>Software Engineer   </td><td> 4</td></tr>\n",
       "\t<tr><td>Teacher             </td><td>40</td></tr>\n",
       "</tbody>\n",
       "</table>\n"
      ],
      "text/latex": [
       "A tibble: 11 × 2\n",
       "\\begin{tabular}{ll}\n",
       " Occupation & n\\\\\n",
       " <chr> & <int>\\\\\n",
       "\\hline\n",
       "\t Accountant           & 37\\\\\n",
       "\t Doctor               & 71\\\\\n",
       "\t Engineer             & 63\\\\\n",
       "\t Lawyer               & 47\\\\\n",
       "\t Manager              &  1\\\\\n",
       "\t Nurse                & 73\\\\\n",
       "\t Sales Representative &  2\\\\\n",
       "\t Salesperson          & 32\\\\\n",
       "\t Scientist            &  4\\\\\n",
       "\t Software Engineer    &  4\\\\\n",
       "\t Teacher              & 40\\\\\n",
       "\\end{tabular}\n"
      ],
      "text/markdown": [
       "\n",
       "A tibble: 11 × 2\n",
       "\n",
       "| Occupation &lt;chr&gt; | n &lt;int&gt; |\n",
       "|---|---|\n",
       "| Accountant           | 37 |\n",
       "| Doctor               | 71 |\n",
       "| Engineer             | 63 |\n",
       "| Lawyer               | 47 |\n",
       "| Manager              |  1 |\n",
       "| Nurse                | 73 |\n",
       "| Sales Representative |  2 |\n",
       "| Salesperson          | 32 |\n",
       "| Scientist            |  4 |\n",
       "| Software Engineer    |  4 |\n",
       "| Teacher              | 40 |\n",
       "\n"
      ],
      "text/plain": [
       "   Occupation           n \n",
       "1  Accountant           37\n",
       "2  Doctor               71\n",
       "3  Engineer             63\n",
       "4  Lawyer               47\n",
       "5  Manager               1\n",
       "6  Nurse                73\n",
       "7  Sales Representative  2\n",
       "8  Salesperson          32\n",
       "9  Scientist             4\n",
       "10 Software Engineer     4\n",
       "11 Teacher              40"
      ]
     },
     "metadata": {},
     "output_type": "display_data"
    },
    {
     "data": {
      "text/html": [
       "<table class=\"dataframe\">\n",
       "<caption>A tibble: 2 × 2</caption>\n",
       "<thead>\n",
       "\t<tr><th scope=col>Sleep_Disorder</th><th scope=col>n</th></tr>\n",
       "\t<tr><th scope=col>&lt;fct&gt;</th><th scope=col>&lt;int&gt;</th></tr>\n",
       "</thead>\n",
       "<tbody>\n",
       "\t<tr><td>0</td><td>219</td></tr>\n",
       "\t<tr><td>1</td><td>155</td></tr>\n",
       "</tbody>\n",
       "</table>\n"
      ],
      "text/latex": [
       "A tibble: 2 × 2\n",
       "\\begin{tabular}{ll}\n",
       " Sleep\\_Disorder & n\\\\\n",
       " <fct> & <int>\\\\\n",
       "\\hline\n",
       "\t 0 & 219\\\\\n",
       "\t 1 & 155\\\\\n",
       "\\end{tabular}\n"
      ],
      "text/markdown": [
       "\n",
       "A tibble: 2 × 2\n",
       "\n",
       "| Sleep_Disorder &lt;fct&gt; | n &lt;int&gt; |\n",
       "|---|---|\n",
       "| 0 | 219 |\n",
       "| 1 | 155 |\n",
       "\n"
      ],
      "text/plain": [
       "  Sleep_Disorder n  \n",
       "1 0              219\n",
       "2 1              155"
      ]
     },
     "metadata": {},
     "output_type": "display_data"
    },
    {
     "data": {
      "text/html": [
       "<table class=\"dataframe\">\n",
       "<caption>A tibble: 3 × 2</caption>\n",
       "<thead>\n",
       "\t<tr><th scope=col>BMI_Category</th><th scope=col>n</th></tr>\n",
       "\t<tr><th scope=col>&lt;fct&gt;</th><th scope=col>&lt;int&gt;</th></tr>\n",
       "</thead>\n",
       "<tbody>\n",
       "\t<tr><td>Normal    </td><td>216</td></tr>\n",
       "\t<tr><td>Obese     </td><td> 10</td></tr>\n",
       "\t<tr><td>Overweight</td><td>148</td></tr>\n",
       "</tbody>\n",
       "</table>\n"
      ],
      "text/latex": [
       "A tibble: 3 × 2\n",
       "\\begin{tabular}{ll}\n",
       " BMI\\_Category & n\\\\\n",
       " <fct> & <int>\\\\\n",
       "\\hline\n",
       "\t Normal     & 216\\\\\n",
       "\t Obese      &  10\\\\\n",
       "\t Overweight & 148\\\\\n",
       "\\end{tabular}\n"
      ],
      "text/markdown": [
       "\n",
       "A tibble: 3 × 2\n",
       "\n",
       "| BMI_Category &lt;fct&gt; | n &lt;int&gt; |\n",
       "|---|---|\n",
       "| Normal     | 216 |\n",
       "| Obese      |  10 |\n",
       "| Overweight | 148 |\n",
       "\n"
      ],
      "text/plain": [
       "  BMI_Category n  \n",
       "1 Normal       216\n",
       "2 Obese         10\n",
       "3 Overweight   148"
      ]
     },
     "metadata": {},
     "output_type": "display_data"
    }
   ],
   "source": [
    "# Summary tables to view counts per category\n",
    "count(sleep_data, Occupation)\n",
    "\n",
    "# There is only 1 Manager.\n",
    "\n",
    "count(sleep_data, Sleep_Disorder)\n",
    "\n",
    "# The two groups are relatively balanced.\n",
    "\n",
    "count(sleep_data, BMI_Category)\n",
    "\n",
    "# The groups are unbalanced; few are in the 'Obese' category."
   ]
  },
  {
   "cell_type": "markdown",
   "id": "fa977b3d-cf72-4716-a4ef-45e21ce4ed5b",
   "metadata": {},
   "source": [
    "### c) Methods: Plan\n",
    "\n",
    "We will use binary logistic regression implemented with glm() to predict whether an individual has a sleep disorder (Yes/No = 1/0). \n",
    "\n",
    "This method is appropriate because: The response variable (Sleep_Disorder, which is a categorical variable with 3 categories) can be transformed into a binomial variable (i.e., has Sleep disorder/ doesn't have sleep disoder).\n",
    "Logistic regression models the probability of an outcome using a logistic function.\n",
    "It allows us to analyze how the response variables influence the likelihood of having a sleep disorder.\n",
    "\n",
    "### Assumptions:\n",
    "1) Binary Response: The response variable must have only two categories (Yes/No).\n",
    "2) Independence: Observations must be independent of one another.\n",
    "3) Variance Structure: The variance follows a binomial distribution, highest when \n",
    "p=0.5.\n",
    "4) Linearity in Log-Odds: The log of the odds should have a linear relationship with the predictors.\n",
    "\n",
    "### Potential Limitations: \n",
    "1) Linearity Assumption: If the relationship between predictors and log-odds is non-linear, transformations may be needed.\n",
    "2) Class Imbalance: Unequal distribution of 1/0 cases may affect predictive performance.\n",
    "3) Unobserved Variables: Other important factors (e.g., genetics, caffeine intake) which may be indicators for sleep disorders are not included in this model."
   ]
  },
  {
   "cell_type": "code",
   "execution_count": 65,
   "id": "94ae57f1-1c9e-40fb-bb69-9f61494e466d",
   "metadata": {},
   "outputs": [
    {
     "data": {
      "text/html": [
       "<table class=\"dataframe\">\n",
       "<caption>A tibble: 6 × 13</caption>\n",
       "<thead>\n",
       "\t<tr><th scope=col>Gender</th><th scope=col>Age</th><th scope=col>Occupation</th><th scope=col>Sleep_Duration</th><th scope=col>Sleep_Quality</th><th scope=col>Phys_Level</th><th scope=col>Stress_Level</th><th scope=col>BMI_Category</th><th scope=col>Systolic_BP</th><th scope=col>Diastolic_BP</th><th scope=col>Heart_Rate</th><th scope=col>Daily_Steps</th><th scope=col>Sleep_Disorder</th></tr>\n",
       "\t<tr><th scope=col>&lt;chr&gt;</th><th scope=col>&lt;dbl&gt;</th><th scope=col>&lt;chr&gt;</th><th scope=col>&lt;dbl&gt;</th><th scope=col>&lt;dbl&gt;</th><th scope=col>&lt;dbl&gt;</th><th scope=col>&lt;dbl&gt;</th><th scope=col>&lt;fct&gt;</th><th scope=col>&lt;int&gt;</th><th scope=col>&lt;int&gt;</th><th scope=col>&lt;dbl&gt;</th><th scope=col>&lt;dbl&gt;</th><th scope=col>&lt;fct&gt;</th></tr>\n",
       "</thead>\n",
       "<tbody>\n",
       "\t<tr><td>Male  </td><td>42</td><td>Lawyer     </td><td>7.8</td><td>8</td><td>90</td><td>5</td><td>Normal    </td><td>130</td><td>85</td><td>70</td><td> 8000</td><td>0</td></tr>\n",
       "\t<tr><td>Male  </td><td>29</td><td>Doctor     </td><td>6.0</td><td>6</td><td>30</td><td>8</td><td>Normal    </td><td>120</td><td>80</td><td>70</td><td> 8000</td><td>0</td></tr>\n",
       "\t<tr><td>Male  </td><td>43</td><td>Salesperson</td><td>6.5</td><td>6</td><td>45</td><td>7</td><td>Overweight</td><td>130</td><td>85</td><td>72</td><td> 6000</td><td>1</td></tr>\n",
       "\t<tr><td>Female</td><td>51</td><td>Nurse      </td><td>6.1</td><td>6</td><td>90</td><td>8</td><td>Overweight</td><td>140</td><td>95</td><td>75</td><td>10000</td><td>1</td></tr>\n",
       "\t<tr><td>Female</td><td>37</td><td>Accountant </td><td>7.2</td><td>8</td><td>60</td><td>4</td><td>Normal    </td><td>115</td><td>75</td><td>68</td><td> 7000</td><td>0</td></tr>\n",
       "\t<tr><td>Female</td><td>51</td><td>Engineer   </td><td>8.5</td><td>9</td><td>30</td><td>3</td><td>Normal    </td><td>125</td><td>80</td><td>65</td><td> 5000</td><td>0</td></tr>\n",
       "</tbody>\n",
       "</table>\n"
      ],
      "text/latex": [
       "A tibble: 6 × 13\n",
       "\\begin{tabular}{lllllllllllll}\n",
       " Gender & Age & Occupation & Sleep\\_Duration & Sleep\\_Quality & Phys\\_Level & Stress\\_Level & BMI\\_Category & Systolic\\_BP & Diastolic\\_BP & Heart\\_Rate & Daily\\_Steps & Sleep\\_Disorder\\\\\n",
       " <chr> & <dbl> & <chr> & <dbl> & <dbl> & <dbl> & <dbl> & <fct> & <int> & <int> & <dbl> & <dbl> & <fct>\\\\\n",
       "\\hline\n",
       "\t Male   & 42 & Lawyer      & 7.8 & 8 & 90 & 5 & Normal     & 130 & 85 & 70 &  8000 & 0\\\\\n",
       "\t Male   & 29 & Doctor      & 6.0 & 6 & 30 & 8 & Normal     & 120 & 80 & 70 &  8000 & 0\\\\\n",
       "\t Male   & 43 & Salesperson & 6.5 & 6 & 45 & 7 & Overweight & 130 & 85 & 72 &  6000 & 1\\\\\n",
       "\t Female & 51 & Nurse       & 6.1 & 6 & 90 & 8 & Overweight & 140 & 95 & 75 & 10000 & 1\\\\\n",
       "\t Female & 37 & Accountant  & 7.2 & 8 & 60 & 4 & Normal     & 115 & 75 & 68 &  7000 & 0\\\\\n",
       "\t Female & 51 & Engineer    & 8.5 & 9 & 30 & 3 & Normal     & 125 & 80 & 65 &  5000 & 0\\\\\n",
       "\\end{tabular}\n"
      ],
      "text/markdown": [
       "\n",
       "A tibble: 6 × 13\n",
       "\n",
       "| Gender &lt;chr&gt; | Age &lt;dbl&gt; | Occupation &lt;chr&gt; | Sleep_Duration &lt;dbl&gt; | Sleep_Quality &lt;dbl&gt; | Phys_Level &lt;dbl&gt; | Stress_Level &lt;dbl&gt; | BMI_Category &lt;fct&gt; | Systolic_BP &lt;int&gt; | Diastolic_BP &lt;int&gt; | Heart_Rate &lt;dbl&gt; | Daily_Steps &lt;dbl&gt; | Sleep_Disorder &lt;fct&gt; |\n",
       "|---|---|---|---|---|---|---|---|---|---|---|---|---|\n",
       "| Male   | 42 | Lawyer      | 7.8 | 8 | 90 | 5 | Normal     | 130 | 85 | 70 |  8000 | 0 |\n",
       "| Male   | 29 | Doctor      | 6.0 | 6 | 30 | 8 | Normal     | 120 | 80 | 70 |  8000 | 0 |\n",
       "| Male   | 43 | Salesperson | 6.5 | 6 | 45 | 7 | Overweight | 130 | 85 | 72 |  6000 | 1 |\n",
       "| Female | 51 | Nurse       | 6.1 | 6 | 90 | 8 | Overweight | 140 | 95 | 75 | 10000 | 1 |\n",
       "| Female | 37 | Accountant  | 7.2 | 8 | 60 | 4 | Normal     | 115 | 75 | 68 |  7000 | 0 |\n",
       "| Female | 51 | Engineer    | 8.5 | 9 | 30 | 3 | Normal     | 125 | 80 | 65 |  5000 | 0 |\n",
       "\n"
      ],
      "text/plain": [
       "  Gender Age Occupation  Sleep_Duration Sleep_Quality Phys_Level Stress_Level\n",
       "1 Male   42  Lawyer      7.8            8             90         5           \n",
       "2 Male   29  Doctor      6.0            6             30         8           \n",
       "3 Male   43  Salesperson 6.5            6             45         7           \n",
       "4 Female 51  Nurse       6.1            6             90         8           \n",
       "5 Female 37  Accountant  7.2            8             60         4           \n",
       "6 Female 51  Engineer    8.5            9             30         3           \n",
       "  BMI_Category Systolic_BP Diastolic_BP Heart_Rate Daily_Steps Sleep_Disorder\n",
       "1 Normal       130         85           70          8000       0             \n",
       "2 Normal       120         80           70          8000       0             \n",
       "3 Overweight   130         85           72          6000       1             \n",
       "4 Overweight   140         95           75         10000       1             \n",
       "5 Normal       115         75           68          7000       0             \n",
       "6 Normal       125         80           65          5000       0             "
      ]
     },
     "metadata": {},
     "output_type": "display_data"
    },
    {
     "data": {
      "text/html": [
       "261"
      ],
      "text/latex": [
       "261"
      ],
      "text/markdown": [
       "261"
      ],
      "text/plain": [
       "[1] 261"
      ]
     },
     "metadata": {},
     "output_type": "display_data"
    },
    {
     "name": "stderr",
     "output_type": "stream",
     "text": [
      "Warning message:\n",
      "“glm.fit: fitted probabilities numerically 0 or 1 occurred”\n"
     ]
    },
    {
     "data": {
      "text/plain": [
       "\n",
       "Call:\n",
       "glm(formula = Sleep_Disorder ~ ., family = binomial, data = sleep_train)\n",
       "\n",
       "Coefficients:\n",
       "                                 Estimate Std. Error z value Pr(>|z|)  \n",
       "(Intercept)                    -7.004e+03  8.850e+05  -0.008   0.9937  \n",
       "GenderMale                     -9.985e+01  1.236e+04  -0.008   0.9936  \n",
       "Age                            -7.639e-01  4.431e-01  -1.724   0.0847 .\n",
       "OccupationDoctor               -3.289e+02  4.257e+04  -0.008   0.9938  \n",
       "OccupationEngineer             -3.156e+02  5.405e+04  -0.006   0.9953  \n",
       "OccupationLawyer               -3.180e+02  5.405e+04  -0.006   0.9953  \n",
       "OccupationManager              -1.786e+02  2.196e+05  -0.001   0.9994  \n",
       "OccupationNurse                -3.449e+02  4.173e+04  -0.008   0.9934  \n",
       "OccupationSales Representative -3.543e+02  1.917e+05  -0.002   0.9985  \n",
       "OccupationSalesperson           2.687e+01  2.146e+04   0.001   0.9990  \n",
       "OccupationScientist            -3.523e+02  4.745e+07   0.000   1.0000  \n",
       "OccupationSoftware Engineer    -1.965e+02  9.334e+04  -0.002   0.9983  \n",
       "OccupationTeacher               9.612e-01  1.594e+00   0.603   0.5465  \n",
       "Sleep_Duration                 -7.227e+00  4.252e+00  -1.700   0.0892 .\n",
       "Sleep_Quality                   7.260e+01  1.206e+04   0.006   0.9952  \n",
       "Phys_Level                     -3.157e+00  4.196e+02  -0.008   0.9940  \n",
       "Stress_Level                   -1.525e+01  2.687e+03  -0.006   0.9955  \n",
       "BMI_CategoryObese              -9.039e+02  1.585e+05  -0.006   0.9954  \n",
       "BMI_CategoryOverweight         -4.358e+02  1.122e+05  -0.004   0.9969  \n",
       "Systolic_BP                     2.430e+01  2.960e+03   0.008   0.9934  \n",
       "Diastolic_BP                    8.053e+00  5.524e+03   0.001   0.9988  \n",
       "Heart_Rate                      5.038e+01  6.293e+03   0.008   0.9936  \n",
       "Daily_Steps                    -1.056e-02  1.029e+01  -0.001   0.9992  \n",
       "---\n",
       "Signif. codes:  0 ‘***’ 0.001 ‘**’ 0.01 ‘*’ 0.05 ‘.’ 0.1 ‘ ’ 1\n",
       "\n",
       "(Dispersion parameter for binomial family taken to be 1)\n",
       "\n",
       "    Null deviance: 351.793  on 260  degrees of freedom\n",
       "Residual deviance:  88.767  on 238  degrees of freedom\n",
       "AIC: 134.77\n",
       "\n",
       "Number of Fisher Scoring iterations: 24\n"
      ]
     },
     "metadata": {},
     "output_type": "display_data"
    }
   ],
   "source": [
    "set.seed(123) \n",
    "\n",
    "# Split into train (70%) and test (30%) sets\n",
    "sleep_train <- sleep_data %>% slice_sample(prop = 0.7)\n",
    "sleep_test <- sleep_data %>% anti_join(sleep_train, by = \"ID\")\n",
    "\n",
    "# Remove ID column\n",
    "sleep_train <- sleep_train %>% select(-`ID`)\n",
    "sleep_test <- sleep_test %>% select(-`ID`)\n",
    "\n",
    "head(sleep_train)\n",
    "nrow(sleep_train)\n",
    "\n",
    "# Fit logistic regression model using glm()\n",
    "logit_model <- glm(Sleep_Disorder ~ ., data = sleep_train, family = binomial)\n",
    "\n",
    "summary(logit_model)"
   ]
  },
  {
   "cell_type": "code",
   "execution_count": 66,
   "id": "945dd8db-0920-4949-abbc-85dbd14a4000",
   "metadata": {},
   "outputs": [
    {
     "name": "stdout",
     "output_type": "stream",
     "text": [
      "Confusion Matrix and Statistics\n",
      "\n",
      "          Reference\n",
      "Prediction  0  1\n",
      "         0 57  5\n",
      "         1  6 45\n",
      "                                          \n",
      "               Accuracy : 0.9027          \n",
      "                 95% CI : (0.8325, 0.9504)\n",
      "    No Information Rate : 0.5575          \n",
      "    P-Value [Acc > NIR] : 1.121e-15       \n",
      "                                          \n",
      "                  Kappa : 0.8031          \n",
      "                                          \n",
      " Mcnemar's Test P-Value : 1               \n",
      "                                          \n",
      "            Sensitivity : 0.9000          \n",
      "            Specificity : 0.9048          \n",
      "         Pos Pred Value : 0.8824          \n",
      "         Neg Pred Value : 0.9194          \n",
      "             Prevalence : 0.4425          \n",
      "         Detection Rate : 0.3982          \n",
      "   Detection Prevalence : 0.4513          \n",
      "      Balanced Accuracy : 0.9024          \n",
      "                                          \n",
      "       'Positive' Class : 1               \n",
      "                                          \n"
     ]
    },
    {
     "name": "stderr",
     "output_type": "stream",
     "text": [
      "Setting levels: control = 0, case = 1\n",
      "\n",
      "Setting direction: controls < cases\n",
      "\n"
     ]
    },
    {
     "data": {
      "image/png": "[encoded data removed]",
      "text/plain": [
       "Plot with title “ROC Curve for Sleep Disorder Prediction”"
      ]
     },
     "metadata": {
      "image/png": {
       "height": 420,
       "width": 420
      }
     },
     "output_type": "display_data"
    }
   ],
   "source": [
    "# Predict on test set\n",
    "sleep_test$Predicted_Prob <- predict(logit_model, newdata = sleep_test, type = \"response\")\n",
    "sleep_test$Predicted_Disorder <- ifelse(sleep_test$Predicted_Prob > 0.5, \"1\", \"0\")\n",
    "\n",
    "# Confusion matrix\n",
    "conf_matrix <- confusionMatrix(\n",
    "   data = as.factor(sleep_test$Predicted_Disorder),\n",
    "   reference = as.factor(sleep_test$Sleep_Disorder),\n",
    "   positive = \"1\"\n",
    ")\n",
    "print(conf_matrix)\n",
    "\n",
    "# ROC Curve\n",
    "ROC_logit <- roc(\n",
    "  response = as.numeric(sleep_test$Sleep_Disorder) - 1,  \n",
    "  predictor = sleep_test$Predicted_Prob\n",
    ")\n",
    "\n",
    "# Plot ROC Curve\n",
    "plot(ROC_logit,\n",
    "     print.auc = TRUE, col = \"blue\", lwd = 3, lty = 2,\n",
    "     main = \"ROC Curve for Sleep Disorder Prediction\")"
   ]
  },
  {
   "cell_type": "markdown",
   "id": "f51829fc-8441-4d91-aec8-a7b93d9d0963",
   "metadata": {},
   "source": [
    "## (4) Discussion\n",
    "\n",
    "The ROC curve shows that the logistic regression model performs well in predicting sleep disorders, with an AUC of 0.876, indicating strong discriminatory power. The model effectively distinguishes between individuals with and without sleep disorders, as seen from the steep rise in sensitivity. This confirms that these factors (i.e., Age, BMI, Sleep duration, Blood Pressure, etc.) play a significant role in sleep disorder classification. Further refinement, such as incorporating additional predictors or handling potential class imbalances, could enhance model performance."
   ]
  },
  {
   "cell_type": "code",
   "execution_count": null,
   "id": "23514e23-5fef-42e1-84a5-b8d9b7d9009b",
   "metadata": {},
   "outputs": [],
   "source": []
  }
 ],
 "metadata": {
  "kernelspec": {
   "display_name": "R",
   "language": "R",
   "name": "ir"
  },
  "language_info": {
   "codemirror_mode": "r",
   "file_extension": ".r",
   "mimetype": "text/x-r-source",
   "name": "R",
   "pygments_lexer": "r",
   "version": "4.3.1"
  }
 },
 "nbformat": 4,
 "nbformat_minor": 5
}
